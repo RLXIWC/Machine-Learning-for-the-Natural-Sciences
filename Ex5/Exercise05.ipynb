{
 "cells": [
  {
   "cell_type": "markdown",
   "metadata": {
    "deletable": false,
    "editable": false,
    "nbgrader": {
     "cell_type": "markdown",
     "checksum": "585185d76dd3c97d62aa6bee8e04aacd",
     "grade": false,
     "grade_id": "cell-06aa629a0207eeaf",
     "locked": true,
     "schema_version": 3,
     "solution": false,
     "task": false
    }
   },
   "source": [
    "# Exercise Sheet No. 5\n",
    "\n",
    "---\n",
    "\n",
    "> Machine Learning for Natural Sciences, Summer 2023, Jun.-Prof. Pascal Friederich, pascal.friederich@kit.edu\n",
    "> \n",
    "> Deadline: May 22nd 2023, 8:00 am\n",
    ">\n",
    "> Container version 1.0.0\n",
    ">\n",
    "> Tutor: chen.zhou@kit.edu\n",
    ">\n",
    "> **Please ask questions in the forum/discussion board and only contact the Tutor when there are issues with the grading**\n",
    "---\n",
    "\n",
    "**Topic**: This exercise sheet will focus on Bayesian statistics, k-nearest neighbors and monte-carlo simulation."
   ]
  },
  {
   "cell_type": "markdown",
   "metadata": {
    "deletable": false,
    "editable": false,
    "nbgrader": {
     "cell_type": "markdown",
     "checksum": "d2309b76e418af1fe1892da6844d606f",
     "grade": false,
     "grade_id": "cell-b4b7e8190a5548e9",
     "locked": true,
     "schema_version": 3,
     "solution": false,
     "task": false
    }
   },
   "source": [
    "# 5 Bayes' theorem\n",
    "\n",
    "Here are Bayes rule and some important formulas of lecture 2.\n",
    "\n",
    "$$\\boxed{p(y|x) = \\frac{p(x|y) p(y)}{p(x)} }$$\n",
    "\n",
    "where $p(y|x)$ is the posterior, $p(x|y)$ the likelihood, $p(x)$ the evidence and $p(y)$ the prior. Here, $p(x\\mid y)$ is a conditional probability, which gives the probability of event $x$ occurring given that $y$ is true. Marginalization over a variable e.g. $y$ (\"eliminate variable $y$\") is defined by:\n",
    "\n",
    "$$p(x) = \\sum\\limits_k p(x|y{=}k) \\; p(y{=}k)$$\n",
    "\n",
    "Where k is each possible realization of y."
   ]
  },
  {
   "cell_type": "markdown",
   "metadata": {
    "deletable": false,
    "editable": false,
    "nbgrader": {
     "cell_type": "markdown",
     "checksum": "b2ed0ea865a507e4d68372f0d71b6bf3",
     "grade": false,
     "grade_id": "cell-214c0a7873e0ea53",
     "locked": true,
     "schema_version": 3,
     "solution": false,
     "task": false
    }
   },
   "source": [
    "Note: You do not have to give a full proof as markdown. Assigning the value to e.g. `p_of_x` is enough."
   ]
  },
  {
   "cell_type": "markdown",
   "metadata": {
    "deletable": false,
    "editable": false,
    "nbgrader": {
     "cell_type": "markdown",
     "checksum": "cb31951a04df0691451ebfec6469baf5",
     "grade": false,
     "grade_id": "cell-0cf184edcccebbe4",
     "locked": true,
     "schema_version": 3,
     "solution": false,
     "task": false
    }
   },
   "source": [
    "Let us consider the following toy problem for the Naive Bayes classifier. The feature variable $X \\in [0, 1]$ is real-valued and 1-dimensional, and the response of the system $Y \\in \\{0, 1\\}$ is discrete with two classes $0$ and $1$. For the system only the prior probabilities and likelihoods (as density functions f) are known. They are given by\n",
    "\n",
    "$$p(y = 0) = p(y = 1) = \\frac{1}{2}$$\n",
    "\n",
    "$$p(x\\,|\\,y = 0) =  2 - 2x$$\n",
    "\n",
    "$$p(x\\,|\\,y = 1) = 2x$$\n",
    "\n",
    "Now, calculate the probability density of $x$, i.e., $p(x)$ by marginalization over $y$. \n",
    "\n",
    "Hint: Marginalization with discrete variables is defined by $p(x) = \\sum_y p(x|y) p(y)$"
   ]
  },
  {
   "cell_type": "code",
   "execution_count": 55,
   "metadata": {
    "deletable": false,
    "nbgrader": {
     "cell_type": "code",
     "checksum": "8c35bb9449a94e2188f5570eb33fecc5",
     "grade": false,
     "grade_id": "p_of_x",
     "locked": false,
     "schema_version": 3,
     "solution": true,
     "task": false
    }
   },
   "outputs": [],
   "source": [
    "# Task 1: probability of x (1 point in total)\n",
    "p_of_x = None # please assign a numeric value to p_of_x\n",
    "p_of_x = 1\n",
    "#raise NotImplementedError()"
   ]
  },
  {
   "cell_type": "code",
   "execution_count": 56,
   "metadata": {
    "deletable": false,
    "editable": false,
    "nbgrader": {
     "cell_type": "code",
     "checksum": "b131d50c6d1b106432caf8149ab51e52",
     "grade": true,
     "grade_id": "p_of_x_test",
     "locked": true,
     "points": 1,
     "schema_version": 3,
     "solution": false,
     "task": false
    }
   },
   "outputs": [],
   "source": [
    "# Hidden test below (1 Point)\n",
    "# The derivation is not graded, only the answer yields 1 Point\n",
    "assert p_of_x or p_of_x == 0, 'Please assign a value to p_of_x!'\n",
    "# Additional test for p(x)"
   ]
  },
  {
   "cell_type": "markdown",
   "metadata": {
    "deletable": false,
    "editable": false,
    "nbgrader": {
     "cell_type": "markdown",
     "checksum": "09ed426a6f97a631e6c53490d23677f2",
     "grade": false,
     "grade_id": "cell-82b26320e2bff41b",
     "locked": true,
     "schema_version": 3,
     "solution": false,
     "task": false
    }
   },
   "source": [
    "Calculate the true posteriors $p^*(y|x)$ by using Bayes rule. Since $y$ is a discrete variable it is again enough to calculate the classes $\\{0,1\\}$ separatly \n",
    "\n",
    "$$p^*(y=0\\,|\\,x) = \\frac{p(x\\,|\\,y = 0)\\,p(y = 0)}{p(x)}$$\n",
    "$$p^*(y=1\\,|\\,x) = \\frac{p(x\\,|\\,y = 1)\\,p(y = 1)}{p(x)}$$\n",
    "\n",
    "The Naive Bayesian classifier would then be: \"pick the highest probability class for given $x$\". \n",
    "\n",
    "$$\\hat{f}(x) = \\underset{k}{\\text{argmax}} \\; p^*(y=k|x)$$"
   ]
  },
  {
   "cell_type": "code",
   "execution_count": 58,
   "metadata": {
    "deletable": false,
    "nbgrader": {
     "cell_type": "code",
     "checksum": "e4de53588fd0f698666efba65512830b",
     "grade": false,
     "grade_id": "p_y_x",
     "locked": false,
     "schema_version": 3,
     "solution": true,
     "task": false
    }
   },
   "outputs": [],
   "source": [
    "# Task 2: Calculate posterior (2 points in total)\n",
    "\n",
    "import matplotlib.pyplot as plt\n",
    "import numpy as np\n",
    "from scipy.spatial.distance import cdist\n",
    "\n",
    "# Give your solution as a function and plot it\n",
    "def prob_y_x(y,x): # p*(y|x)\n",
    "    \"\"\"Calculate p(y) given x.\n",
    "    Args:\n",
    "        y (int): y value either 0 or 1.\n",
    "        x (np.array): Array of x-values of shape (N,)\n",
    "    Returns:\n",
    "        prob (np.array): Probability p(y|x) with shape (N,)\n",
    "    \"\"\"\n",
    "    prob = None # please update this in your solution\n",
    "    if y == 0:\n",
    "        prob = 1 - x\n",
    "    if y == 1:\n",
    "        prob = x\n",
    "    #raise NotImplementedError()\n",
    "    return prob"
   ]
  },
  {
   "cell_type": "code",
   "execution_count": 57,
   "metadata": {},
   "outputs": [
    {
     "data": {
      "image/png": "[encoded data removed]",
      "text/plain": [
       "<Figure size 640x480 with 1 Axes>"
      ]
     },
     "metadata": {},
     "output_type": "display_data"
    }
   ],
   "source": [
    "# plot the probability p(y|x) (ordinate) against x (abscissa) for y=0 and y=1\n",
    "plt.figure()\n",
    "sampling = np.linspace(0,1,100)\n",
    "plt.plot(sampling, prob_y_x(0,sampling),label=\"y=0\")\n",
    "plt.plot(sampling, prob_y_x(1,sampling),label=\"y=1\")\n",
    "plt.legend()\n",
    "plt.xlabel(\"x\")\n",
    "plt.ylabel('p(y|x)')\n",
    "plt.show()"
   ]
  },
  {
   "cell_type": "code",
   "execution_count": 59,
   "metadata": {
    "deletable": false,
    "editable": false,
    "nbgrader": {
     "cell_type": "code",
     "checksum": "a226370b45e88cc37b84fa69e40eaa20",
     "grade": true,
     "grade_id": "p_y_x_test-1",
     "locked": true,
     "points": 1,
     "schema_version": 3,
     "solution": false,
     "task": false
    }
   },
   "outputs": [],
   "source": [
    "# (1 Point)\n",
    "assert np.abs(prob_y_x(0,0.0) - 1.0 ) < 0.001"
   ]
  },
  {
   "cell_type": "code",
   "execution_count": 60,
   "metadata": {
    "deletable": false,
    "editable": false,
    "nbgrader": {
     "cell_type": "code",
     "checksum": "959af8388d4b1893f2c496379828eeb9",
     "grade": true,
     "grade_id": "p_y_x_test-2",
     "locked": true,
     "points": 1,
     "schema_version": 3,
     "solution": false,
     "task": false
    }
   },
   "outputs": [],
   "source": [
    "# Hidden tests below (1 point)\n",
    "# Additional test for p (y|x) with y=0 or y=1"
   ]
  },
  {
   "cell_type": "markdown",
   "metadata": {
    "deletable": false,
    "editable": false,
    "nbgrader": {
     "cell_type": "markdown",
     "checksum": "3eb944001de2b6d1a706a71fa5a861f2",
     "grade": false,
     "grade_id": "cell-ec69f2b1fdb00722",
     "locked": true,
     "schema_version": 3,
     "solution": false,
     "task": false
    }
   },
   "source": [
    "### 5.1 Bayes error rate\n",
    "\n",
    "The Bayes error rate can be described by the probability of failure of the Bayes classifer $\\mathbb{E}_{x\\sim p(x)}[ p(\\hat{y} {\\ne} y^* |x)]$, where $\\mathbb{E}$ denotes the expectation value, defined by $\\mathbb{E}_{x\\sim p(x)}[f(x)] = f(x) \\; p(x) \\; dx$. The probability of error can also be defined by $p(\\text{error}) = 1- p(\\text{success}) = 1 - \\mathbb{E}_{x\\sim p(x)}[p(\\hat{y}_i=y_i^*|x)]$, which gives:\n",
    "\n",
    "$$\\mathbb{E}_{x\\sim p(x)}[p(\\hat{y} {\\ne} y^* |x)] = 1 - \\int (\\underset{k}{\\text{max}}\\; p(y{=}k|x)) \\;  p(x) \\, dx$$\n",
    "\n",
    "Determine the error rate for the toy problem, i.e. the best achievable error for Bayes classifer, using the above formular. In this case this is equal to a threshold classifier that picks either $y \\in \\{0,1\\}$ depending whether $x$ is smaller or bigger than a threshold $x_t = 1/2$. \n",
    "\n",
    "\\begin{equation}\n",
    "\\text{threshold classifier:} \\;\\;\\; \\hat{y} = \\begin{cases}\n",
    "0, & \\text{if}\\; x<x_t\\\\\n",
    "1, & \\text{if}\\; x \\geq x_t\n",
    "\\end{cases}\n",
    "\\end{equation}\n",
    "\n",
    "Bonus: If you want you can prove that $x_t = 1/2$ is the best choice of a threshold (not graded)."
   ]
  },
  {
   "cell_type": "code",
   "execution_count": 61,
   "metadata": {
    "deletable": false,
    "nbgrader": {
     "cell_type": "code",
     "checksum": "a2ec0faf94213456dcc95e68921ada4c",
     "grade": false,
     "grade_id": "error_bayes",
     "locked": false,
     "schema_version": 3,
     "solution": true,
     "task": false
    }
   },
   "outputs": [],
   "source": [
    "# Task 3: Bayes error rate (1 point in total)\n",
    "\n",
    "error_bayes = 0.25 # error rate not in % but [0,1]\n",
    "# YOUR CODE HERE\n",
    "#raise NotImplementedError()"
   ]
  },
  {
   "cell_type": "code",
   "execution_count": 62,
   "metadata": {
    "deletable": false,
    "editable": false,
    "nbgrader": {
     "cell_type": "code",
     "checksum": "d0c262c77bb614d67d63944a007f0878",
     "grade": true,
     "grade_id": "error_bayes_test",
     "locked": true,
     "points": 1,
     "schema_version": 3,
     "solution": false,
     "task": false
    }
   },
   "outputs": [],
   "source": [
    "# Hidden tests below (1 Point)\n",
    "# The derivation is not graded, only the answer yields 2 Points\n",
    "assert isinstance(error_bayes, float) "
   ]
  },
  {
   "cell_type": "markdown",
   "metadata": {
    "deletable": false,
    "editable": false,
    "nbgrader": {
     "cell_type": "markdown",
     "checksum": "e087f139e8cfdda16d89869c4f4551af",
     "grade": false,
     "grade_id": "cell-8346849135e441e4",
     "locked": true,
     "schema_version": 3,
     "solution": false,
     "task": false
    }
   },
   "source": [
    "### 5.2 Nearest Neighbour error rate\n",
    "\n",
    "The nearest-neighbor classiffier's asymptotic local error ($N \\to \\infty$) is given by the Gini impurity for 1-NN and based on Bayes classification (without proof):\n",
    "\n",
    "$$ p_\\infty(\\text{error}|x) = 1-\\sum_k p(y=k|x)^2$$\n",
    "\n",
    "And for the asymptotic overall error\n",
    "\n",
    "$$ P_\\infty(\\text{error}) = \\int p_{\\infty}(\\text{error}\\,|\\,x)\\,p(x)\\,dx =\\int \\left(1-\\sum_k p(y=k|x)^2 \\right) \\,p(x)\\,dx$$\n",
    "\n",
    "Determine the error rate for the toy problem, i.e. the best achievable error for Nearest Neighbour classifer, using the above formular."
   ]
  },
  {
   "cell_type": "code",
   "execution_count": 63,
   "metadata": {
    "deletable": false,
    "nbgrader": {
     "cell_type": "code",
     "checksum": "4210c52c2fb3f7721384b295762455eb",
     "grade": false,
     "grade_id": "error_NN",
     "locked": false,
     "schema_version": 3,
     "solution": true,
     "task": false
    }
   },
   "outputs": [],
   "source": [
    "# Task 4: Nearest Neighbour error rate (1 point in total)\n",
    "\n",
    "error_NN = 0.3333  # error rate not in % but [0,1]\n",
    "# YOUR CODE HERE\n",
    "#raise NotImplementedError()"
   ]
  },
  {
   "cell_type": "code",
   "execution_count": 64,
   "metadata": {
    "deletable": false,
    "editable": false,
    "nbgrader": {
     "cell_type": "code",
     "checksum": "a7fd14ca432bd5b5def58facd67a0e36",
     "grade": true,
     "grade_id": "error_NN_test",
     "locked": true,
     "points": 1,
     "schema_version": 3,
     "solution": false,
     "task": false
    }
   },
   "outputs": [],
   "source": [
    "# Hidden test below (1 Point)\n",
    "# The derivation is not graded, only the answer yields 1 Point\n",
    "assert isinstance(error_NN, float)"
   ]
  },
  {
   "cell_type": "markdown",
   "metadata": {
    "deletable": false,
    "editable": false,
    "nbgrader": {
     "cell_type": "markdown",
     "checksum": "2fd024f6b0f64b0a40d4697f1844c0c0",
     "grade": false,
     "grade_id": "cell-7d6e44ab864416be",
     "locked": true,
     "schema_version": 3,
     "solution": false,
     "task": false
    }
   },
   "source": [
    "### 5.3 Error rate for constant classifier\n",
    "\n",
    "At last, determine the error rate for our toy problem for a classifier that knows nothing about $x$, or more specifically the randomly guesses $y$ or always picks for example $y=1$ ."
   ]
  },
  {
   "cell_type": "code",
   "execution_count": 65,
   "metadata": {
    "deletable": false,
    "nbgrader": {
     "cell_type": "code",
     "checksum": "2ee91ad5c1596f6d6e5e02c3f39e26dd",
     "grade": false,
     "grade_id": "error_guess",
     "locked": false,
     "schema_version": 3,
     "solution": true,
     "task": false
    }
   },
   "outputs": [],
   "source": [
    "# Task 5: Constant Classifier error rate (1 point in total)\n",
    "\n",
    "error_guess = 0.5 # error rate not in % but [0,1]\n",
    "# YOUR CODE HERE\n",
    "#raise NotImplementedError()"
   ]
  },
  {
   "cell_type": "code",
   "execution_count": 66,
   "metadata": {
    "deletable": false,
    "editable": false,
    "nbgrader": {
     "cell_type": "code",
     "checksum": "cde3b120f537be3e78ece0714b789c18",
     "grade": true,
     "grade_id": "error_guess_test",
     "locked": true,
     "points": 1,
     "schema_version": 3,
     "solution": false,
     "task": false
    }
   },
   "outputs": [],
   "source": [
    "# Hidden test below (1 Point)\n",
    "# The derivation is not graded, only the answer yields 1 Point\n",
    "assert isinstance(error_guess, float)"
   ]
  },
  {
   "cell_type": "markdown",
   "metadata": {
    "deletable": false,
    "editable": false,
    "nbgrader": {
     "cell_type": "markdown",
     "checksum": "b321f9d362d1c5b883ae7c3c027d5bdf",
     "grade": false,
     "grade_id": "cell-a5b96c7089da209b",
     "locked": true,
     "schema_version": 3,
     "solution": false,
     "task": false
    }
   },
   "source": [
    "# 5.4 Monte-Carlo\n",
    "\n",
    "To test the above theoretically derived error rates, we can use a random number generator to produce data. Specifically, one first samples an instance label $Y$ according to the prior probabilities, and then uses the\n",
    "corresponding likelihood to sample the feature $X$. If no predefined random generator for the desired\n",
    "likelihood is available (as is the case here), uniformly distributed samples from a standard random\n",
    "number generator can be transformed to the desired distribution by means of \"inverse transform\n",
    "sampling\" (see https://en.wikipedia.org/wiki/Inverse_transform_sampling). You do not have to do this here (we give the solution below), however, you are encouraged to read about it."
   ]
  },
  {
   "cell_type": "code",
   "execution_count": 67,
   "metadata": {
    "deletable": false,
    "editable": false,
    "nbgrader": {
     "cell_type": "code",
     "checksum": "a97bbff12a6284cbd8a32069028429a0",
     "grade": false,
     "grade_id": "cell-efb5de8be5985bf0",
     "locked": true,
     "schema_version": 3,
     "solution": false,
     "task": false
    }
   },
   "outputs": [
    {
     "data": {
      "image/png": "[encoded data removed]",
      "text/plain": [
       "<Figure size 1000x800 with 4 Axes>"
      ]
     },
     "metadata": {},
     "output_type": "display_data"
    }
   ],
   "source": [
    "# Make data\n",
    "def create_data(N,seed=0):\n",
    "    np.random.seed(seed)\n",
    "    data = np.zeros((N, 2), dtype = float)\n",
    "    for i in range(N):\n",
    "        # sample y uniformly between 0 and 1\n",
    "        y = np.random.randint(2)\n",
    "        # use inverse transform sampling for x, given y\n",
    "        u = np.random.rand()\n",
    "        if 0 == y:\n",
    "            x = 1 - np.sqrt(1 - u)\n",
    "        else:\n",
    "            x = np.sqrt(u)\n",
    "        data[i,:] = (x,y)\n",
    "    return data\n",
    "\n",
    "# Generate Data\n",
    "test_data = create_data(100000)\n",
    "X_0 = test_data[test_data[:,1] == 0][:,0]\n",
    "X_1 = test_data[test_data[:,1] == 1][:,0]\n",
    "\n",
    "# show prior and likelihoods for both classes as bar chart and histograms\n",
    "fig = plt.figure(figsize = (10, 8))\n",
    "\n",
    "plt.subplot(221)\n",
    "plt.title(r'prior for class $Y$')\n",
    "plt.bar([0, 1], [X_0.size, X_1.size], width = 0.6)\n",
    "plt.xticks([0,1]); plt.xlim([-0.5, 1.5]); plt.yticks([0,25000,50000], ['0', '25k', '50k'])\n",
    "\n",
    "plt.subplot(222)\n",
    "plt.title(r'likelihood for $Y = 0$')\n",
    "plt.hist(X_0, 50, density = True, facecolor = 'green', alpha = 0.5)\n",
    "plt.ylabel(r'$p(X = x \\mid Y = 0)$')\n",
    "plt.plot([0,1], [2,0])\n",
    "\n",
    "plt.subplot(223)\n",
    "plt.title(r'likelihood for $Y = 1$')\n",
    "plt.hist(X_1, 50, density = True, facecolor = 'blue', alpha = 0.5)\n",
    "plt.ylabel(r'$p(X = x \\mid Y = 1)$')\n",
    "plt.plot([0,1], [0,2])\n",
    "\n",
    "plt.subplot(224)\n",
    "plt.title('Distribution of X and Y')\n",
    "plt.scatter(test_data[:, 0], test_data[:, 1])\n",
    "plt.ylabel('Y')\n",
    "\n",
    "fig.tight_layout(); plt.show()"
   ]
  },
  {
   "cell_type": "markdown",
   "metadata": {
    "deletable": false,
    "editable": false,
    "nbgrader": {
     "cell_type": "markdown",
     "checksum": "58e6531b91bd2bea517103c5fa2f7efa",
     "grade": false,
     "grade_id": "cell-0a70bae0f653a686",
     "locked": true,
     "schema_version": 3,
     "solution": false,
     "task": false
    }
   },
   "source": [
    "### 5.5 Classifier Error rates\n",
    "\n",
    "Now determine \"experimentally\" the error rates for the following classifiers using the random number generation of `create_data()` for the toy problem:\n",
    "\n",
    "* A) Threshold classifier with threshold $x_t$ (for $x_t = 1/2$ this equals Naive Bayes classifier):\n",
    "\n",
    "$$ f_A (x) =  \\begin{cases}\n",
    "\t0 &\\text{if} \\;\\;x < x_t \\\\\n",
    "\t1 & \\text{if} \\;\\;x \\geqslant x_t\n",
    "\t\\end{cases}$$\n",
    "  \n",
    "\n",
    "* B) Constant classifier:\n",
    "\n",
    "$$ f_B(x) = 1$$\n",
    "\n",
    "* C) Random classifier:\n",
    "\n",
    "$$ f_C(x) =  \\begin{cases}\n",
    "\t0 & \\; \\text{with probability} 1/2\\\\\n",
    "\t1 &  \\;\\text{otherwise}\n",
    "\t\\end{cases}$$\n",
    "    \n",
    "* D) Nearest Neighbour classifier (k=1) for a training set $(x_i, y_i) \\in TS$ that is taken from the data above.\n",
    "\n",
    "$$ \\hat{y} = f_D(x;\\text{TS}) = y_{\\hat{i}}^*$$\n",
    "\n",
    "$$\\hat{i} = \\underset{i}{\\text{argmin}}\\; d(x_i,x)$$\n"
   ]
  },
  {
   "cell_type": "code",
   "execution_count": 68,
   "metadata": {
    "deletable": false,
    "nbgrader": {
     "cell_type": "code",
     "checksum": "d2e7ed25126378222be80bda60bb75df",
     "grade": false,
     "grade_id": "rule_A_B_C-1",
     "locked": false,
     "schema_version": 3,
     "solution": true,
     "task": false
    }
   },
   "outputs": [],
   "source": [
    "# Task 6: Simple classifiers (6 points in total)\n",
    "\n",
    "# implement the classifiers' functions below:\n",
    "def pred_A(x,xt):\n",
    "    \"\"\"Classifier A.\n",
    "    Args:\n",
    "        x (np.array): Array of x-values of shape (N,)\n",
    "        xt (float): Threshold in (0,1)\n",
    "    Returns:\n",
    "        label (np.array): Label for x of shape (N,)\n",
    "    \"\"\"\n",
    "    label = None # please update this in your solution\n",
    "    label = np.array(x > xt, dtype=\"int\")\n",
    "    #raise NotImplementedError()\n",
    "    return label\n",
    "\n",
    "def pred_B(x):\n",
    "    \"\"\"Classifier B.\n",
    "    Args:\n",
    "        x (np.array): Array of x-values of shape (N,)\n",
    "    Returns:\n",
    "        label (np.array): Label for x of shape (N,)\n",
    "    \"\"\"\n",
    "    label = None # please update this in your solution\n",
    "    label = np.ones_like(x, dtype=int)\n",
    "    #raise NotImplementedError()\n",
    "    return label\n",
    "\n",
    "def pred_C(x):\n",
    "    \"\"\"Classifier C.\n",
    "    Args:\n",
    "        x (np.array): Array of x-values of shape (N,)\n",
    "    Returns:\n",
    "        label (np.array): Label for x of shape (N,)\n",
    "    \"\"\"\n",
    "    label = None # please update this in your solution\n",
    "    label = np.random.choice([0, 1], size=len(x))\n",
    "    #raise NotImplementedError()\n",
    "    return label\n",
    "\n",
    "# Determine the error rates\n",
    "def ErrorCount(y_pred, y_true):\n",
    "    CountError = np.array(np.rint(y_true), dtype=\"int\") != np.array(np.rint(y_pred),dtype=\"int\")\n",
    "    CountError = np.sum(CountError)\n",
    "    return CountError/len(y_true)"
   ]
  },
  {
   "cell_type": "code",
   "execution_count": 69,
   "metadata": {
    "deletable": false,
    "nbgrader": {
     "cell_type": "code",
     "checksum": "ad7558d54e51b6cc1d4f28691b5a86d1",
     "grade": false,
     "grade_id": "rule_A_B_C-2",
     "locked": false,
     "schema_version": 3,
     "solution": true,
     "task": false
    }
   },
   "outputs": [],
   "source": [
    "# Now determine the error rates with std deviation, i.e. create_data(N=100000) for 5 repetitions\n",
    "dat_mult = [create_data(N=100000,seed=i) for i in range(5)]\n",
    "\n",
    "# For A choose here xt = 0.5\n",
    "# error_A, error_B, error_C are mean values of prediction error rates on the 5 datasets in dat_mult.\n",
    "# error_A_std, error_B_std, error_C_std are corresponding standard deviations.\n",
    "# please implement the calculation in your solution\n",
    "# use the ErrorCount() function to determine the error rate\n",
    "error_A = np.mean([ErrorCount(pred_A(dat_mult[i][:,0],0.5),dat_mult[i][:,1]) for i in range(5)])\n",
    "error_A_std = np.std([ErrorCount(pred_A(dat_mult[i][:,0],0.5),dat_mult[i][:,1]) for i in range(5)])\n",
    "error_B = np.mean([ErrorCount(pred_B(dat_mult[i][:,0]),dat_mult[i][:,1]) for i in range(5)])\n",
    "error_B_std = np.std([ErrorCount(pred_B(dat_mult[i][:,0]),dat_mult[i][:,1]) for i in range(5)])\n",
    "error_C = np.mean([ErrorCount(pred_C(dat_mult[i][:,0]),dat_mult[i][:,1]) for i in range(5)])\n",
    "error_C_std = np.std([ErrorCount(pred_C(dat_mult[i][:,0]),dat_mult[i][:,1]) for i in range(5)])\n",
    "\n",
    "# YOUR CODE HERE\n",
    "#raise NotImplementedError()"
   ]
  },
  {
   "cell_type": "markdown",
   "metadata": {
    "deletable": false,
    "editable": false,
    "nbgrader": {
     "cell_type": "markdown",
     "checksum": "c6e9288517259b30b86cdde15c8078b0",
     "grade": false,
     "grade_id": "cell-b5f4a35ad26ed7ec",
     "locked": true,
     "schema_version": 3,
     "solution": false,
     "task": false
    }
   },
   "source": [
    "**Hint:** Compare your error rate of classifier A with your answer of Task 3: Bayes error rate, and rate of calssifier B/C with the answer of Task 5: Constant Classifier error rate. You should get an idea if your implementation is correct."
   ]
  },
  {
   "cell_type": "code",
   "execution_count": 70,
   "metadata": {
    "deletable": false,
    "editable": false,
    "nbgrader": {
     "cell_type": "code",
     "checksum": "b1c6cebf79df39422dbff0de421ccfd4",
     "grade": false,
     "grade_id": "cell-b221a5f97f07dd3a",
     "locked": true,
     "schema_version": 3,
     "solution": false,
     "task": false
    }
   },
   "outputs": [
    {
     "name": "stdout",
     "output_type": "stream",
     "text": [
      "Error Rate A: 0.251052 ± 0.0014075425393216385\n",
      "Error Rate B: 0.500178 ± 0.0005921959135286205\n",
      "Error Rate C: 0.500318 ± 0.0010153620044102345\n"
     ]
    }
   ],
   "source": [
    "print(\"Error Rate A: {} ± {}\".format(error_A,error_A_std))\n",
    "print(\"Error Rate B: {} ± {}\".format(error_B,error_B_std))\n",
    "print(\"Error Rate C: {} ± {}\".format(error_C,error_C_std))"
   ]
  },
  {
   "cell_type": "code",
   "execution_count": null,
   "metadata": {},
   "outputs": [],
   "source": []
  },
  {
   "cell_type": "code",
   "execution_count": 71,
   "metadata": {
    "deletable": false,
    "editable": false,
    "nbgrader": {
     "cell_type": "code",
     "checksum": "d8ff496f3db59c1f1fcadf4d3a7c7704",
     "grade": true,
     "grade_id": "rule_A_B_C_test_A",
     "locked": true,
     "points": 2,
     "schema_version": 3,
     "solution": false,
     "task": false
    }
   },
   "outputs": [],
   "source": [
    "# Hidden tests below (2 Points)\n",
    "# Try to assign a single value to the error rates\n",
    "# We will also check the function implementations\n",
    "assert error_A is not None"
   ]
  },
  {
   "cell_type": "code",
   "execution_count": 72,
   "metadata": {
    "deletable": false,
    "editable": false,
    "nbgrader": {
     "cell_type": "code",
     "checksum": "1230fa89d66501f2ec9d4210b54f4d9c",
     "grade": true,
     "grade_id": "rule_A_B_C_test_B",
     "locked": true,
     "points": 2,
     "schema_version": 3,
     "solution": false,
     "task": false
    }
   },
   "outputs": [],
   "source": [
    "# Hidden tests below (2 Points)\n",
    "assert error_B is not None"
   ]
  },
  {
   "cell_type": "code",
   "execution_count": 73,
   "metadata": {
    "deletable": false,
    "editable": false,
    "nbgrader": {
     "cell_type": "code",
     "checksum": "0f96a2d73ada4cc64a62410158d28261",
     "grade": true,
     "grade_id": "rule_A_B_C_test_C",
     "locked": true,
     "points": 2,
     "schema_version": 3,
     "solution": false,
     "task": false
    }
   },
   "outputs": [],
   "source": [
    "# Hidden tests below (2 Points)\n",
    "assert error_C is not None"
   ]
  },
  {
   "cell_type": "code",
   "execution_count": 74,
   "metadata": {
    "deletable": false,
    "nbgrader": {
     "cell_type": "code",
     "checksum": "262835b262f0c3dcca04a0599c1f294b",
     "grade": false,
     "grade_id": "rule_D-1",
     "locked": false,
     "schema_version": 3,
     "solution": true,
     "task": false
    }
   },
   "outputs": [],
   "source": [
    "# Task 7: NN classifier (4 points in total)\n",
    "\n",
    "# Tipp: Use the distance function from exercise sheet 3! Or scipy cdist.\n",
    "\n",
    "def nn_classifier(x_test, TS):\n",
    "    \"\"\"Nearest neighbor classifier for arbitrary training-set size.\n",
    "    Use vectorization (ideally).\n",
    "    \n",
    "    Args:\n",
    "        x_test (np.array): data to predict of shape (N,)\n",
    "        TS (np.array): Training dataset of shape (N,2) with (x,y) in the last dimension.\n",
    "    \n",
    "    Returns:\n",
    "        y_pred (np.array): Prediction of the NN classifier of shape (N,) with dtype=np.int\n",
    "    \"\"\"  \n",
    "    distances = cdist(x_test.reshape(-1, 1), TS[:, 0].reshape(-1, 1))\n",
    "    nearest_index = np.argmin(distances, axis=1)\n",
    "    y_pred = TS[nearest_index, 1]\n",
    "    \n",
    "    return y_pred"
   ]
  },
  {
   "cell_type": "code",
   "execution_count": 75,
   "metadata": {
    "deletable": false,
    "nbgrader": {
     "cell_type": "code",
     "checksum": "19d7037df77096b9fcc9f87aa03a3a10",
     "grade": false,
     "grade_id": "rule_D-2",
     "locked": false,
     "schema_version": 3,
     "solution": true,
     "task": false
    }
   },
   "outputs": [],
   "source": [
    "dat_mult = [create_data(N=100000,seed=i) for i in range(5)] # For training\n",
    "test_mult = [create_data(N=100,seed=i+100) for i in range(5)] # For testing\n",
    "\n",
    "# please implementation the calculation in your solution\n",
    "# use the ErrorCount() function to determine the error rate\n",
    "# error_NN is the mean value of prediction error rates on the 5 datasets in test_mult.\n",
    "# error_NN_std is the corresponding standard deviation.\n",
    "error_NN = np.mean([ErrorCount(nn_classifier(test_mult[i][:,0],dat_mult[i]),test_mult[i][:,1]) for i in range(5)])\n",
    "error_NN_std = np.std([ErrorCount(nn_classifier(test_mult[i][:,0],dat_mult[i]),test_mult[i][:,1]) for i in range(5)])\n",
    "\n",
    "# YOUR CODE HERE\n",
    "#raise NotImplementedError()"
   ]
  },
  {
   "cell_type": "markdown",
   "metadata": {
    "deletable": false,
    "editable": false,
    "nbgrader": {
     "cell_type": "markdown",
     "checksum": "c517ebb8ccdd3b8fae562f815a64cdd9",
     "grade": false,
     "grade_id": "cell-d39732ddaea24dd4",
     "locked": true,
     "schema_version": 3,
     "solution": false,
     "task": false
    }
   },
   "source": [
    "**Hint:** Compare your error rate of NN classifier with your answer of Task 4: Nearest Neighbour error rate. You should get an idea if your implementation is correct."
   ]
  },
  {
   "cell_type": "code",
   "execution_count": 76,
   "metadata": {
    "deletable": false,
    "editable": false,
    "nbgrader": {
     "cell_type": "code",
     "checksum": "0f76550be2c451852292c21d9eefbfd3",
     "grade": false,
     "grade_id": "cell-52f1aef336bb5f70",
     "locked": true,
     "schema_version": 3,
     "solution": false,
     "task": false
    }
   },
   "outputs": [
    {
     "name": "stdout",
     "output_type": "stream",
     "text": [
      "Error Rate D: 0.34400000000000003 ± 0.034409301068170514\n"
     ]
    }
   ],
   "source": [
    "print(\"Error Rate D: {} ± {}\".format(error_NN,error_NN_std))"
   ]
  },
  {
   "cell_type": "code",
   "execution_count": 77,
   "metadata": {
    "deletable": false,
    "editable": false,
    "nbgrader": {
     "cell_type": "code",
     "checksum": "d9bd9e2ff407ac028b7d3ec5c10bee86",
     "grade": true,
     "grade_id": "rule_D_test",
     "locked": true,
     "points": 2,
     "schema_version": 3,
     "solution": false,
     "task": false
    }
   },
   "outputs": [],
   "source": [
    "# (2 Points)\n",
    "assert error_NN is not None\n",
    "assert error_NN_std is not None\n",
    "# Hidden test below\n",
    "# will check the value of error_NN and error_NN_std"
   ]
  },
  {
   "cell_type": "code",
   "execution_count": 78,
   "metadata": {
    "deletable": false,
    "editable": false,
    "nbgrader": {
     "cell_type": "code",
     "checksum": "3127b167b7c6164e9e983f9288bfa88d",
     "grade": true,
     "grade_id": "rule_D_test_NN",
     "locked": true,
     "points": 2,
     "schema_version": 3,
     "solution": false,
     "task": false
    }
   },
   "outputs": [],
   "source": [
    "# (2 Points)\n",
    "assert nn_classifier(np.array([[0.0]]), np.array([[0.0,0.0]])) is not None\n",
    "\n",
    "# Hidden test below\n",
    "# We will also test the function nn_classifier(x_test, TS)"
   ]
  },
  {
   "cell_type": "markdown",
   "metadata": {
    "deletable": false,
    "editable": false,
    "nbgrader": {
     "cell_type": "markdown",
     "checksum": "75f2ddd1b2de0e1a12643a392f4de291",
     "grade": false,
     "grade_id": "cell-ddb431ec02132cd9",
     "locked": true,
     "schema_version": 3,
     "solution": false,
     "task": false
    }
   },
   "source": [
    "Now, let's evaluate the error rate as a function of the dataset size and plot it.\n",
    "The datasets we are working on here are included in `dat_grid`. The size of the datasets are $50$, $100$, $1000$, $10000$ and $100000$, with each size contains $5$ datasets randomly generated by `create_data()`."
   ]
  },
  {
   "cell_type": "code",
   "execution_count": 79,
   "metadata": {},
   "outputs": [],
   "source": [
    "dat_grid = [[create_data(N=n,seed=i) for i in range(5)] for n in [50,100,1000,10000,100000]]"
   ]
  },
  {
   "cell_type": "markdown",
   "metadata": {
    "deletable": false,
    "editable": false,
    "nbgrader": {
     "cell_type": "markdown",
     "checksum": "27c3b7b6193a83db7736b0eaa3bfd473",
     "grade": false,
     "grade_id": "cell-889dd4f8faa44830",
     "locked": true,
     "schema_version": 3,
     "solution": false,
     "task": false
    }
   },
   "source": [
    "Please use `pred_A()`, `pred_B()`, `pred_C()` that you have already implemented earlier to classify the datasets and calculate means/standard deviations of the errors."
   ]
  },
  {
   "cell_type": "code",
   "execution_count": 80,
   "metadata": {
    "deletable": false,
    "nbgrader": {
     "cell_type": "code",
     "checksum": "4b48d2395d0b71e9822c6fe386dc4e85",
     "grade": false,
     "grade_id": "error_vs_size_abc",
     "locked": false,
     "schema_version": 3,
     "solution": true,
     "task": false
    }
   },
   "outputs": [],
   "source": [
    "# Task 8: Different Dataset Size (3 points in total)\n",
    "\n",
    "# Evaluate the error rate for the 3 rules as above with different sizes in dat_grid.\n",
    "# error_grid_a, error_grid_b, error_grid_c are mean values of prediction error rates.\n",
    "# error_grid_a_std, error_grid_b_std, error_grid_c_std are corresponding standard deviations.\n",
    "# Please finish the calculation with the ErrorCount(), pred_A(), pred_B(), and pred_C() functions in your solution.\n",
    "error_grid_a = np.mean([[ErrorCount(pred_A(dat_grid[i][j][:,0],0.5),dat_grid[i][j][:,1]) for j in range(5)] for i in range(len(dat_grid))],axis=1)\n",
    "error_grid_a_std = np.std([[ErrorCount(pred_A(dat_grid[i][j][:,0],0.5),dat_grid[i][j][:,1]) for j in range(5)] for i in range(len(dat_grid))],axis=1)\n",
    "error_grid_b = np.mean([[ErrorCount(pred_B(dat_grid[i][j][:,0]),dat_grid[i][j][:,1]) for j in range(5)] for i in range(len(dat_grid))],axis=1)\n",
    "error_grid_b_std = np.std([[ErrorCount(pred_B(dat_grid[i][j][:,0]),dat_grid[i][j][:,1]) for j in range(5)] for i in range(len(dat_grid))],axis=1)\n",
    "error_grid_c = np.mean([[ErrorCount(pred_C(dat_grid[i][j][:,0]),dat_grid[i][j][:,1]) for j in range(5)] for i in range(len(dat_grid))],axis=1)\n",
    "error_grid_c_std = np.std([[ErrorCount(pred_C(dat_grid[i][j][:,0]),dat_grid[i][j][:,1]) for j in range(5)] for i in range(len(dat_grid))],axis=1)  \n",
    "\n",
    "# YOUR CODE HERE\n",
    "#raise NotImplementedError()"
   ]
  },
  {
   "cell_type": "code",
   "execution_count": 81,
   "metadata": {
    "deletable": false,
    "editable": false,
    "nbgrader": {
     "cell_type": "code",
     "checksum": "be7004c81ccedca790ae7e3be5615705",
     "grade": true,
     "grade_id": "error_vs_size_abc_test",
     "locked": true,
     "points": 2,
     "schema_version": 3,
     "solution": false,
     "task": false
    }
   },
   "outputs": [],
   "source": [
    "# (2 points)\n",
    "assert len(error_grid_a) == 5 and len(error_grid_b_std) == 5\n",
    "\n",
    "# Hidden tests below\n",
    "# Values of means/standard deviations of errors will be tested"
   ]
  },
  {
   "cell_type": "markdown",
   "metadata": {
    "deletable": false,
    "editable": false,
    "nbgrader": {
     "cell_type": "markdown",
     "checksum": "9f27d5445c8b577d6b36e8a202db4e5e",
     "grade": false,
     "grade_id": "cell-a91c729e1d0f8766",
     "locked": true,
     "schema_version": 3,
     "solution": false,
     "task": false
    }
   },
   "source": [
    "For Nearest Neighbour classifier, we will use `dat_grid` as training sets and generate test sets as `test_grid_nn`. The size of the test sets are $5$, $10$, $100$, $100$, $1000$ with each size consists of $5$ datasets."
   ]
  },
  {
   "cell_type": "code",
   "execution_count": 82,
   "metadata": {
    "deletable": false,
    "nbgrader": {
     "cell_type": "code",
     "checksum": "30d658e63ecab47c13c24b71fbf0a6a4",
     "grade": false,
     "grade_id": "error_vs_size_d",
     "locked": false,
     "schema_version": 3,
     "solution": true,
     "task": false
    }
   },
   "outputs": [],
   "source": [
    "# for nearest neighbour simply pick the separate test_grid_nn\n",
    "test_grid_nn = [[create_data(N=n,seed=i+100) for i in range(5)] for n in [5,10,100,100,1000]]\n",
    "\n",
    "# Evaluate the error rate for the Nearest Neighbour classifier trained with dat_grid and tested on test_grid_nn.\n",
    "# error_grid_d contains mean values of prediction error rates.\n",
    "# error_grid_d_std contains corresponding standard deviations.\n",
    "# Please finish the calculation with the ErrorCount() and nn_classifier() functions in your solution.\n",
    "error_grid_d = np.mean([[ErrorCount(nn_classifier(test_grid_nn[i][j][:,0],dat_grid[i][j]),test_grid_nn[i][j][:,1]) for j in range(5)] for i in range(len(test_grid_nn))],axis=1)\n",
    "error_grid_d_std = np.std([[ErrorCount(nn_classifier(test_grid_nn[i][j][:,0],dat_grid[i][j]),test_grid_nn[i][j][:,1]) for j in range(5)] for i in range(len(test_grid_nn))],axis=1)\n",
    "\n",
    "# YOUR CODE HERE\n",
    "#raise NotImplementedError()"
   ]
  },
  {
   "cell_type": "code",
   "execution_count": 83,
   "metadata": {
    "deletable": false,
    "editable": false,
    "nbgrader": {
     "cell_type": "code",
     "checksum": "4e0c21f3ba790657bd21ab0831bf9bd8",
     "grade": true,
     "grade_id": "error_vs_size_d_test",
     "locked": true,
     "points": 1,
     "schema_version": 3,
     "solution": false,
     "task": false
    }
   },
   "outputs": [],
   "source": [
    "# (1 point)\n",
    "assert len(error_grid_d) == 5 and len(error_grid_d_std) == 5\n",
    "\n",
    "# Hidden tests below\n",
    "# Values of means/standard deviations of errors will be tested"
   ]
  },
  {
   "cell_type": "code",
   "execution_count": 84,
   "metadata": {},
   "outputs": [
    {
     "data": {
      "image/png": "[encoded data removed]",
      "text/plain": [
       "<Figure size 640x480 with 1 Axes>"
      ]
     },
     "metadata": {},
     "output_type": "display_data"
    }
   ],
   "source": [
    "#Plot results\n",
    "plt.figure()\n",
    "plt.title(r'Error rate for rule A, B, C, D')\n",
    "# plt.errorbar\n",
    "sampling = np.array([n for n in [50,100,1000,10000,100000]])\n",
    "plt.errorbar(sampling,np.array(error_grid_a), yerr=np.array(error_grid_a_std),label=\"A\")\n",
    "plt.errorbar(sampling,np.array(error_grid_b), yerr=np.array(error_grid_b_std),label=\"B\")\n",
    "plt.errorbar(sampling,np.array(error_grid_c), yerr=np.array(error_grid_c_std),label=\"C\")\n",
    "plt.errorbar(sampling,np.array(error_grid_d), yerr=np.array(error_grid_d_std),label=\"D\")\n",
    "plt.ylabel('error rate')\n",
    "plt.legend(loc=\"upper right\")\n",
    "plt.xscale('log')"
   ]
  },
  {
   "cell_type": "markdown",
   "metadata": {
    "deletable": false,
    "editable": false,
    "nbgrader": {
     "cell_type": "markdown",
     "checksum": "73978fad95a68d91934fedda2e8d402e",
     "grade": false,
     "grade_id": "cell-fbba3c389a6f05b4",
     "locked": true,
     "schema_version": 3,
     "solution": false,
     "task": false
    }
   },
   "source": [
    "Congragulation! You have finished this exercise. I hope it is helpful to understand lecture content. Don't forget to participate the exercise survey and thanks again for your work!"
   ]
  }
 ],
 "metadata": {
  "kernelspec": {
   "display_name": "Python 3 (ipykernel)",
   "language": "python",
   "name": "python3"
  },
  "language_info": {
   "codemirror_mode": {
    "name": "ipython",
    "version": 3
   },
   "file_extension": ".py",
   "mimetype": "text/x-python",
   "name": "python",
   "nbconvert_exporter": "python",
   "pygments_lexer": "ipython3",
   "version": "3.9.16"
  }
 },
 "nbformat": 4,
 "nbformat_minor": 4
}
